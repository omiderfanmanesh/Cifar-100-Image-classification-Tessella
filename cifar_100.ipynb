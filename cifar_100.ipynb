{
 "cells": [
  {
   "cell_type": "code",
   "execution_count": 6,
   "metadata": {
    "collapsed": true
   },
   "outputs": [],
   "source": [
    "import random\n",
    "from time import time\n",
    "\n",
    "import torch.nn as nn\n",
    "from sklearn.metrics import f1_score\n",
    "\n",
    "from config import cfg\n",
    "from utils import AverageMeter\n",
    "from utils import utilities\n",
    "\n",
    "SEED = 2021\n",
    "random.seed(SEED)\n",
    "\n",
    "import torch\n",
    "\n",
    "torch.manual_seed(SEED)\n",
    "torch.cuda.manual_seed(SEED)\n",
    "torch.cuda.empty_cache()\n",
    "import numpy as np\n",
    "\n",
    "np.random.seed(SEED)\n",
    "import torchvision.transforms as T\n",
    "from torch.utils.data import DataLoader\n",
    "from data.dataset import CIFAR100\n",
    "\n",
    "batch_size = cfg.SOLVER.IMS_PER_BATCH\n",
    "num_workers = cfg.DATALOADER.NUM_WORKERS"
   ]
  },
  {
   "cell_type": "markdown",
   "source": [
    "## Train"
   ],
   "metadata": {
    "collapsed": false
   }
  },
  {
   "cell_type": "code",
   "execution_count": 2,
   "outputs": [],
   "source": [
    "normalize_transform = T.Normalize(mean=(0.5071, 0.4865, 0.4409),\n",
    "                                  std=(0.2673, 0.2564, 0.2762))\n",
    "\n",
    "transformer = T.Compose([T.RandomCrop(32, padding=4, padding_mode='reflect'),\n",
    "                         T.RandomHorizontalFlip(),\n",
    "                         T.ToTensor(),\n",
    "                         normalize_transform\n",
    "                         ])\n",
    "val_transform = T.Compose([\n",
    "    T.Resize(cfg.INPUT.SIZE_TEST),\n",
    "    T.ToTensor(),\n",
    "    normalize_transform\n",
    "])"
   ],
   "metadata": {
    "collapsed": false,
    "pycharm": {
     "name": "#%%\n"
    }
   }
  },
  {
   "cell_type": "code",
   "execution_count": 3,
   "outputs": [
    {
     "name": "stdout",
     "output_type": "stream",
     "text": [
      "Files already downloaded and verified\n",
      "Files already downloaded and verified\n"
     ]
    }
   ],
   "source": [
    "train_dataset = CIFAR100(\n",
    "    root='./data/dataset/cifar_100_dataset_file', train=True,\n",
    "    download=True, transform=transformer,\n",
    ")\n",
    "\n",
    "validation_dataset = CIFAR100(\n",
    "    root='./data/dataset/cifar_100_dataset_file', train=False,\n",
    "    download=True, transform=val_transform,\n",
    ")"
   ],
   "metadata": {
    "collapsed": false,
    "pycharm": {
     "name": "#%%\n"
    }
   }
  },
  {
   "cell_type": "code",
   "execution_count": 4,
   "outputs": [],
   "source": [
    "train_data_loader = DataLoader(\n",
    "    train_dataset, batch_size=batch_size, num_workers=num_workers\n",
    ")\n",
    "\n",
    "val_data_loader = DataLoader(\n",
    "    validation_dataset, batch_size=16, num_workers=num_workers\n",
    ")"
   ],
   "metadata": {
    "collapsed": false,
    "pycharm": {
     "name": "#%%\n"
    }
   }
  },
  {
   "cell_type": "code",
   "execution_count": 5,
   "outputs": [
    {
     "name": "stdout",
     "output_type": "stream",
     "text": [
      "Epoch 1 [27.87s]: Training Loss: 3.98 Validation Loss: 4.89, Train Accuracy: 0.10, Train f1 score: 0.10, Validation Accuracy: 0.03, Validation f1 score: 0.03\n",
      "Epoch 2 [27.99s]: Training Loss: 3.33 Validation Loss: 5.92, Train Accuracy: 0.19, Train f1 score: 0.19, Validation Accuracy: 0.02, Validation f1 score: 0.02\n",
      "Progress[57]: [>                   ] 7 %\r"
     ]
    },
    {
     "ename": "KeyboardInterrupt",
     "evalue": "",
     "output_type": "error",
     "traceback": [
      "\u001B[0;31m---------------------------------------------------------------------------\u001B[0m",
      "\u001B[0;31mKeyboardInterrupt\u001B[0m                         Traceback (most recent call last)",
      "\u001B[0;32m<ipython-input-5-d96d0a5a1485>\u001B[0m in \u001B[0;36m<module>\u001B[0;34m\u001B[0m\n\u001B[1;32m    125\u001B[0m \u001B[0mcriterion\u001B[0m \u001B[0;34m=\u001B[0m \u001B[0mnn\u001B[0m\u001B[0;34m.\u001B[0m\u001B[0mCrossEntropyLoss\u001B[0m\u001B[0;34m(\u001B[0m\u001B[0;34m)\u001B[0m\u001B[0;34m\u001B[0m\u001B[0;34m\u001B[0m\u001B[0m\n\u001B[1;32m    126\u001B[0m \u001B[0;34m\u001B[0m\u001B[0m\n\u001B[0;32m--> 127\u001B[0;31m train(cfg=cfg, model=model, optimizer=optimizer, scheduler=sched, train_loader=train_data_loader,\n\u001B[0m\u001B[1;32m    128\u001B[0m       val_loader=val_data_loader, criterion=criterion)\n",
      "\u001B[0;32m<ipython-input-5-d96d0a5a1485>\u001B[0m in \u001B[0;36mtrain\u001B[0;34m(cfg, model, train_loader, val_loader, optimizer, scheduler, criterion)\u001B[0m\n\u001B[1;32m     56\u001B[0m             \u001B[0;31m# print(acc)\u001B[0m\u001B[0;34m\u001B[0m\u001B[0;34m\u001B[0m\u001B[0;34m\u001B[0m\u001B[0m\n\u001B[1;32m     57\u001B[0m             \u001B[0m_\u001B[0m\u001B[0;34m,\u001B[0m \u001B[0mpredicted\u001B[0m \u001B[0;34m=\u001B[0m \u001B[0mtorch\u001B[0m\u001B[0;34m.\u001B[0m\u001B[0mmax\u001B[0m\u001B[0;34m(\u001B[0m\u001B[0mtarget\u001B[0m\u001B[0;34m.\u001B[0m\u001B[0mdata\u001B[0m\u001B[0;34m,\u001B[0m \u001B[0;36m1\u001B[0m\u001B[0;34m)\u001B[0m\u001B[0;34m\u001B[0m\u001B[0;34m\u001B[0m\u001B[0m\n\u001B[0;32m---> 58\u001B[0;31m             \u001B[0mf\u001B[0m \u001B[0;34m=\u001B[0m \u001B[0mf1_score\u001B[0m\u001B[0;34m(\u001B[0m\u001B[0mlabels\u001B[0m\u001B[0;34m.\u001B[0m\u001B[0mcpu\u001B[0m\u001B[0;34m(\u001B[0m\u001B[0;34m)\u001B[0m\u001B[0;34m,\u001B[0m \u001B[0mpredicted\u001B[0m\u001B[0;34m.\u001B[0m\u001B[0mcpu\u001B[0m\u001B[0;34m(\u001B[0m\u001B[0;34m)\u001B[0m\u001B[0;34m,\u001B[0m \u001B[0maverage\u001B[0m\u001B[0;34m=\u001B[0m\u001B[0;34m'micro'\u001B[0m\u001B[0;34m)\u001B[0m\u001B[0;34m\u001B[0m\u001B[0;34m\u001B[0m\u001B[0m\n\u001B[0m\u001B[1;32m     59\u001B[0m             \u001B[0;31m# print(f)\u001B[0m\u001B[0;34m\u001B[0m\u001B[0;34m\u001B[0m\u001B[0;34m\u001B[0m\u001B[0m\n\u001B[1;32m     60\u001B[0m             \u001B[0mtrain_f1\u001B[0m\u001B[0;34m.\u001B[0m\u001B[0mupdate\u001B[0m\u001B[0;34m(\u001B[0m\u001B[0mf\u001B[0m\u001B[0;34m)\u001B[0m\u001B[0;34m\u001B[0m\u001B[0;34m\u001B[0m\u001B[0m\n",
      "\u001B[0;31mKeyboardInterrupt\u001B[0m: "
     ]
    }
   ],
   "source": [
    "\n",
    "def train(\n",
    "        cfg,\n",
    "        model,\n",
    "        train_loader,\n",
    "        val_loader,\n",
    "        optimizer,\n",
    "        scheduler,\n",
    "        criterion,\n",
    "):\n",
    "    model_name = cfg.MODEL.NAME\n",
    "    log_period = cfg.SOLVER.LOG_PERIOD\n",
    "    checkpoint_period = cfg.SOLVER.CHECKPOINT_PERIOD\n",
    "    output_dir = cfg.DIR.OUTPUT_DIR\n",
    "    device = cfg.MODEL.DEVICE\n",
    "    device = torch.device(device=device)\n",
    "    epochs = cfg.SOLVER.MAX_EPOCHS\n",
    "\n",
    "    model = model.to(device)\n",
    "\n",
    "    min_valid_loss = np.inf\n",
    "\n",
    "    for e in range(epochs):\n",
    "        batch_time = AverageMeter('Time', ':6.3f')\n",
    "        data_time = AverageMeter('Data', ':6.3f')\n",
    "        train_losses = AverageMeter('Training Loss', ':.4e')\n",
    "        val_losses = AverageMeter('Validation Loss', ':.4e')\n",
    "        train_accuracy = AverageMeter('Training Accuracy', ':6.2f')\n",
    "        val_accuracy = AverageMeter('Validation Accuracy', ':6.2f')\n",
    "        train_f1 = AverageMeter('Training F1 score', ':6.2f')\n",
    "        val_f1 = AverageMeter('Validation F1 score', ':6.2f')\n",
    "\n",
    "        start_epoch = time()\n",
    "        model.train()\n",
    "        for itr, (data, labels) in enumerate(train_loader):\n",
    "            start_batch = time()\n",
    "            # Transfer Data to GPU if available\n",
    "            if torch.cuda.is_available():\n",
    "                data, labels = data.cuda(), labels.cuda()\n",
    "\n",
    "            # Clear the gradients\n",
    "            optimizer.zero_grad()\n",
    "            # Forward Pass\n",
    "            target = model(data)\n",
    "            # Find the Loss\n",
    "            loss = criterion(target, labels)\n",
    "            # Calculate gradients\n",
    "            loss.backward()\n",
    "            # Update Weights\n",
    "            optimizer.step()\n",
    "            if scheduler:\n",
    "                scheduler.step()\n",
    "            # Calculate Loss\n",
    "            # train_loss = loss.item() * data.size(0)\n",
    "            # accuracy\n",
    "            acc = utilities.accuracy(y_true=labels, y_pred=target)\n",
    "            # print(acc)\n",
    "            _, predicted = torch.max(target.data, 1)\n",
    "            f = f1_score(labels.cpu(), predicted.cpu(), average='micro')\n",
    "            # print(f)\n",
    "            train_f1.update(f)\n",
    "            train_accuracy.update(acc)\n",
    "            train_losses.update(loss.item(), data.size(0))\n",
    "            # measure elapsed time\n",
    "            batch_time.update(time() - start_batch)\n",
    "\n",
    "            utilities.progress_bar(current=itr, total=len(train_loader))\n",
    "\n",
    "\n",
    "\n",
    "        if val_loader:\n",
    "            model.eval()  # Optional when not using Model Specific layer\n",
    "            for data, labels in val_loader:\n",
    "                # Transfer Data to GPU if available\n",
    "                if torch.cuda.is_available():\n",
    "                    data, labels = data.cuda(), labels.cuda()\n",
    "\n",
    "                # Forward Pass\n",
    "                target = model(data)\n",
    "                # Find the Loss\n",
    "                loss = criterion(target, labels)\n",
    "                # Calculate Loss\n",
    "                # valid_loss = loss.item() * data.size(0)\n",
    "                val_losses.update(loss.item(), data.size(0))\n",
    "\n",
    "                acc = utilities.accuracy(y_true=labels, y_pred=target)\n",
    "                # print(f\"acc{acc}\")\n",
    "                # accuracy\n",
    "                _, predicted = torch.max(target.data, 1)\n",
    "                val_accuracy.update(acc)\n",
    "                f = f1_score(labels.cpu(), predicted.cpu(), average='micro')\n",
    "                # print(f\"f{f}\")\n",
    "                val_f1.update(f)\n",
    "\n",
    "        data_time.update(time() - start_epoch)\n",
    "\n",
    "        print(\n",
    "            f'Epoch {e + 1} [{data_time.avg:.2f}s]: Training Loss: {train_losses.avg:.2f} '\n",
    "            f'Validation Loss: {val_losses.avg:.2f}, Train Accuracy: {train_accuracy.avg:.2f}, Train f1 score: {train_f1.avg:.2f},'\n",
    "            f' Validation Accuracy: {val_accuracy.avg:.2f}, Validation f1 score: {val_f1.avg:.2f}')\n",
    "\n",
    "        # if min_valid_loss > val_losses.avg:\n",
    "        #     print(f'Validation Loss Decreased({min_valid_loss:.6f}--->{val_losses.avg:.6f}) \\t Saving The Model')\n",
    "        #     min_valid_loss = val_losses.avg\n",
    "        #\n",
    "        #     # Saving State Dict\n",
    "        #     torch.save(model.state_dict(), cfg.DIR.BEST_MODEL + cfg.TEST.WEIGHT)\n",
    "\n",
    "    print('Finished Training')\n",
    "\n",
    "\n",
    "from torchvision.models.resnet import resnet18 as _resnet18\n",
    "import torch.optim as optim\n",
    "\n",
    "epochs = 3\n",
    "max_lr = 0.01\n",
    "grad_clip = 0.1\n",
    "weight_decay = 1e-4\n",
    "\n",
    "model = _resnet18(pretrained=False)\n",
    "# Set up cutom optimizer with weight decay\n",
    "optimizer = optim.Adam(model.parameters(), max_lr, weight_decay=weight_decay)\n",
    "# Set up one-cycle learning rate scheduler\n",
    "sched = torch.optim.lr_scheduler.OneCycleLR(optimizer, max_lr, epochs=epochs,\n",
    "                                            steps_per_epoch=len(train_data_loader))\n",
    "criterion = nn.CrossEntropyLoss()\n",
    "\n",
    "train(cfg=cfg, model=model, optimizer=optimizer, scheduler=sched, train_loader=train_data_loader,\n",
    "      val_loader=val_data_loader, criterion=criterion)"
   ],
   "metadata": {
    "collapsed": false,
    "pycharm": {
     "name": "#%%\n"
    }
   }
  }
 ],
 "metadata": {
  "kernelspec": {
   "display_name": "Python 3",
   "language": "python",
   "name": "python3"
  },
  "language_info": {
   "codemirror_mode": {
    "name": "ipython",
    "version": 2
   },
   "file_extension": ".py",
   "mimetype": "text/x-python",
   "name": "python",
   "nbconvert_exporter": "python",
   "pygments_lexer": "ipython2",
   "version": "2.7.6"
  }
 },
 "nbformat": 4,
 "nbformat_minor": 0
}