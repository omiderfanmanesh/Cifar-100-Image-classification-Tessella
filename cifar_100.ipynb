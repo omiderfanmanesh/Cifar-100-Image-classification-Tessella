{
 "cells": [
  {
   "cell_type": "code",
   "execution_count": 1,
   "metadata": {
    "collapsed": true
   },
   "outputs": [],
   "source": [
    "import random\n",
    "from time import time\n",
    "\n",
    "import torch.nn as nn\n",
    "from sklearn.metrics import f1_score\n",
    "\n",
    "from config import cfg\n",
    "from utils import AverageMeter\n",
    "from utils import utilities\n",
    "\n",
    "SEED = 2021\n",
    "random.seed(SEED)\n",
    "\n",
    "import torch\n",
    "\n",
    "torch.manual_seed(SEED)\n",
    "torch.cuda.manual_seed(SEED)\n",
    "torch.cuda.empty_cache()\n",
    "import numpy as np\n",
    "\n",
    "np.random.seed(SEED)\n",
    "import torchvision.transforms as T\n",
    "from torch.utils.data import DataLoader\n",
    "from data.dataset import CIFAR100\n",
    "\n",
    "batch_size = cfg.SOLVER.IMS_PER_BATCH\n",
    "num_workers = cfg.DATALOADER.NUM_WORKERS\n",
    "from RandAugment import RandAugment"
   ]
  },
  {
   "cell_type": "markdown",
   "source": [
    "## Train"
   ],
   "metadata": {
    "collapsed": false
   }
  },
  {
   "cell_type": "code",
   "execution_count": 2,
   "outputs": [],
   "source": [
    "normalize_transform = T.Normalize(mean=(0.5071, 0.4865, 0.4409),\n",
    "                                  std=(0.2673, 0.2564, 0.2762))\n",
    "\n",
    "transformer = T.Compose([\n",
    "    T.RandomCrop(32, padding=4, padding_mode='reflect'),\n",
    "    T.RandomHorizontalFlip(),\n",
    "    # RandAugment(n=2, m=9),\n",
    "    T.ToTensor(),\n",
    "    normalize_transform\n",
    "])\n",
    "val_transform = T.Compose([\n",
    "    T.ToTensor(),\n",
    "    normalize_transform\n",
    "])"
   ],
   "metadata": {
    "collapsed": false,
    "pycharm": {
     "name": "#%%\n"
    }
   }
  },
  {
   "cell_type": "code",
   "execution_count": 3,
   "outputs": [
    {
     "name": "stdout",
     "output_type": "stream",
     "text": [
      "Files already downloaded and verified\n",
      "Files already downloaded and verified\n"
     ]
    }
   ],
   "source": [
    "train_dataset = CIFAR100(\n",
    "    root='./data/dataset/cifar_100_dataset_file', train=True,\n",
    "    download=True, transform=transformer,\n",
    ")\n",
    "\n",
    "validation_dataset = CIFAR100(\n",
    "    root='./data/dataset/cifar_100_dataset_file', train=False,\n",
    "    download=True, transform=val_transform,\n",
    ")"
   ],
   "metadata": {
    "collapsed": false,
    "pycharm": {
     "name": "#%%\n"
    }
   }
  },
  {
   "cell_type": "code",
   "execution_count": 4,
   "outputs": [],
   "source": [
    "train_data_loader = DataLoader(\n",
    "    train_dataset, batch_size=batch_size, num_workers=num_workers\n",
    ")\n",
    "\n",
    "val_data_loader = DataLoader(\n",
    "    validation_dataset, batch_size=cfg.TEST.IMS_PER_BATCH,\n",
    "    num_workers=num_workers\n",
    ")"
   ],
   "metadata": {
    "collapsed": false,
    "pycharm": {
     "name": "#%%\n"
    }
   }
  },
  {
   "cell_type": "code",
   "execution_count": 13,
   "outputs": [],
   "source": [
    "\n",
    "def train(\n",
    "        cfg,\n",
    "        model,\n",
    "        train_loader,\n",
    "        val_loader,\n",
    "        optimizer,\n",
    "        scheduler,\n",
    "        criterion,\n",
    "        grad_clip=None\n",
    "):\n",
    "    model_name = cfg.MODEL.NAME\n",
    "    log_period = cfg.SOLVER.LOG_PERIOD\n",
    "    checkpoint_period = cfg.SOLVER.CHECKPOINT_PERIOD\n",
    "    output_dir = cfg.DIR.OUTPUT_DIR\n",
    "    device = cfg.MODEL.DEVICE\n",
    "    device = torch.device(device=device)\n",
    "    epochs = cfg.SOLVER.MAX_EPOCHS\n",
    "\n",
    "    model = model.to(device)\n",
    "\n",
    "    min_valid_loss = np.inf\n",
    "\n",
    "    for e in range(epochs):\n",
    "        batch_time = AverageMeter('Time', ':6.3f')\n",
    "        data_time = AverageMeter('Data', ':6.3f')\n",
    "        train_losses = AverageMeter('Training Loss', ':.4e')\n",
    "        val_losses = AverageMeter('Validation Loss', ':.4e')\n",
    "        train_accuracy = AverageMeter('Training Accuracy', ':6.2f')\n",
    "        val_accuracy = AverageMeter('Validation Accuracy', ':6.2f')\n",
    "        train_f1 = AverageMeter('Training F1 score', ':6.2f')\n",
    "        val_f1 = AverageMeter('Validation F1 score', ':6.2f')\n",
    "\n",
    "        start_epoch = time()\n",
    "        model.train()\n",
    "        for itr, (data, labels) in enumerate(train_loader):\n",
    "            start_batch = time()\n",
    "            # Transfer Data to GPU if available\n",
    "            if torch.cuda.is_available():\n",
    "                data, labels = data.cuda(), labels.cuda()\n",
    "\n",
    "\n",
    "            # Forward Pass\n",
    "            target = model(data)\n",
    "            # Find the Loss\n",
    "            loss = criterion(target, labels)\n",
    "            # Calculate gradients\n",
    "            loss.backward()\n",
    "\n",
    "             # Gradient clipping\n",
    "            if grad_clip:\n",
    "                nn.utils.clip_grad_value_(model.parameters(), grad_clip)\n",
    "            # Update Weights\n",
    "            optimizer.step()\n",
    "              # Clear the gradients\n",
    "            optimizer.zero_grad()\n",
    "            if scheduler:\n",
    "                scheduler.step()\n",
    "            # Calculate Loss\n",
    "            # train_loss = loss.item() * data.size(0)\n",
    "            # accuracy\n",
    "            acc = utilities.accuracy(y_true=labels, y_pred=target)\n",
    "            # print(acc)\n",
    "            _, predicted = torch.max(target.data, 1)\n",
    "            f = f1_score(labels.cpu(), predicted.cpu(), average='micro')\n",
    "            # print(f)\n",
    "            train_f1.update(f)\n",
    "            train_accuracy.update(acc)\n",
    "            train_losses.update(loss.item(), data.size(0))\n",
    "            # measure elapsed time\n",
    "            batch_time.update(time() - start_batch)\n",
    "\n",
    "            utilities.progress_bar(current=itr, total=len(train_loader))\n",
    "\n",
    "        if val_loader:\n",
    "            model.eval()  # Optional when not using Model Specific layer\n",
    "            for data, labels in val_loader:\n",
    "                # Transfer Data to GPU if available\n",
    "                if torch.cuda.is_available():\n",
    "                    data, labels = data.cuda(), labels.cuda()\n",
    "\n",
    "                # Forward Pass\n",
    "                target = model(data)\n",
    "                # Find the Loss\n",
    "                loss = criterion(target, labels)\n",
    "                # Calculate Loss\n",
    "                # valid_loss = loss.item() * data.size(0)\n",
    "                val_losses.update(loss.item(), data.size(0))\n",
    "\n",
    "                acc = utilities.accuracy(y_true=labels, y_pred=target)\n",
    "                # print(f\"acc{acc}\")\n",
    "                # accuracy\n",
    "                _, predicted = torch.max(target.data, 1)\n",
    "                val_accuracy.update(acc)\n",
    "                f = f1_score(labels.cpu(), predicted.cpu(), average='micro')\n",
    "                # print(f\"f{f}\")\n",
    "                val_f1.update(f)\n",
    "\n",
    "        data_time.update(time() - start_epoch)\n",
    "\n",
    "        print(\n",
    "            f'Epoch {e + 1} [{data_time.avg:.2f}s]: Training Loss: {train_losses.avg:.2f} '\n",
    "            f'Validation Loss: {val_losses.avg:.2f}, Train Accuracy: {train_accuracy.avg:.2f}, Train f1 score: {train_f1.avg:.2f},'\n",
    "            f'Validation Accuracy: {val_accuracy.avg:.2f}, Validation f1 score: {val_f1.avg:.2f}')\n",
    "\n",
    "        # if min_valid_loss > val_losses.avg:\n",
    "        #     print(f'Validation Loss Decreased({min_valid_loss:.6f}--->{val_losses.avg:.6f}) \\t Saving The Model')\n",
    "        #     min_valid_loss = val_losses.avg\n",
    "        #\n",
    "        #     # Saving State Dict\n",
    "        #     torch.save(model.state_dict(), cfg.DIR.BEST_MODEL + cfg.TEST.WEIGHT)\n",
    "\n",
    "    print('Finished Training')"
   ],
   "metadata": {
    "collapsed": false,
    "pycharm": {
     "name": "#%%\n"
    }
   }
  },
  {
   "cell_type": "code",
   "execution_count": 6,
   "outputs": [],
   "source": [
    "# len(train_data_loader) * epochs"
   ],
   "metadata": {
    "collapsed": false,
    "pycharm": {
     "name": "#%%\n"
    }
   }
  },
  {
   "cell_type": "code",
   "execution_count": 8,
   "outputs": [],
   "source": [
    "from torchvision.models.resnet import resnet18 as _resnet18\n",
    "import torch.optim as optim\n",
    "\n",
    "\n",
    "max_lr = 0.01\n",
    "grad_clip = 0.1\n",
    "weight_decay = 1e-4\n",
    "\n",
    "model = _resnet18(pretrained=False)\n",
    "# Set up cutom optimizer with weight decay\n",
    "optimizer = optim.Adam(model.parameters(), max_lr, weight_decay=weight_decay)\n",
    "# Set up one-cycle learning rate scheduler\n",
    "sched = torch.optim.lr_scheduler.OneCycleLR(optimizer, max_lr, epochs=cfg.SOLVER.IMS_PER_BATCH,\n",
    "                                            steps_per_epoch=len(train_data_loader))\n",
    "criterion = nn.CrossEntropyLoss()"
   ],
   "metadata": {
    "collapsed": false,
    "pycharm": {
     "name": "#%%\n"
    }
   }
  },
  {
   "cell_type": "code",
   "execution_count": 9,
   "outputs": [
    {
     "name": "stdout",
     "output_type": "stream",
     "text": [
      "Epoch 1 [14.88s]: Training Loss: 3.92 Validation Loss: 3.34, Train Accuracy: 0.13, Train f1 score: 0.13,Validation Accuracy: 0.20, Validation f1 score: 0.20\n",
      "Epoch 2 [14.83s]: Training Loss: 3.21 Validation Loss: 3.00, Train Accuracy: 0.22, Train f1 score: 0.22,Validation Accuracy: 0.26, Validation f1 score: 0.26\n",
      "Epoch 3 [14.88s]: Training Loss: 2.91 Validation Loss: 2.82, Train Accuracy: 0.27, Train f1 score: 0.27,Validation Accuracy: 0.29, Validation f1 score: 0.29\n",
      "Epoch 4 [14.98s]: Training Loss: 2.70 Validation Loss: 2.60, Train Accuracy: 0.31, Train f1 score: 0.31,Validation Accuracy: 0.34, Validation f1 score: 0.34\n",
      "Epoch 5 [15.00s]: Training Loss: 2.52 Validation Loss: 2.51, Train Accuracy: 0.35, Train f1 score: 0.35,Validation Accuracy: 0.36, Validation f1 score: 0.36\n",
      "Epoch 6 [15.10s]: Training Loss: 2.39 Validation Loss: 2.39, Train Accuracy: 0.38, Train f1 score: 0.38,Validation Accuracy: 0.38, Validation f1 score: 0.38\n",
      "Epoch 7 [15.11s]: Training Loss: 2.27 Validation Loss: 2.37, Train Accuracy: 0.40, Train f1 score: 0.40,Validation Accuracy: 0.38, Validation f1 score: 0.38\n",
      "Epoch 8 [15.09s]: Training Loss: 2.17 Validation Loss: 2.34, Train Accuracy: 0.42, Train f1 score: 0.42,Validation Accuracy: 0.39, Validation f1 score: 0.39\n",
      "Epoch 9 [15.19s]: Training Loss: 2.09 Validation Loss: 2.32, Train Accuracy: 0.44, Train f1 score: 0.44,Validation Accuracy: 0.40, Validation f1 score: 0.40\n",
      "Epoch 10 [15.11s]: Training Loss: 2.02 Validation Loss: 2.22, Train Accuracy: 0.45, Train f1 score: 0.45,Validation Accuracy: 0.42, Validation f1 score: 0.42\n",
      "Epoch 11 [15.07s]: Training Loss: 1.94 Validation Loss: 2.27, Train Accuracy: 0.47, Train f1 score: 0.47,Validation Accuracy: 0.41, Validation f1 score: 0.41\n",
      "Epoch 12 [15.23s]: Training Loss: 1.88 Validation Loss: 2.28, Train Accuracy: 0.48, Train f1 score: 0.48,Validation Accuracy: 0.41, Validation f1 score: 0.41\n",
      "Epoch 13 [15.25s]: Training Loss: 1.83 Validation Loss: 2.17, Train Accuracy: 0.50, Train f1 score: 0.50,Validation Accuracy: 0.44, Validation f1 score: 0.44\n",
      "Epoch 14 [15.36s]: Training Loss: 1.76 Validation Loss: 2.16, Train Accuracy: 0.51, Train f1 score: 0.51,Validation Accuracy: 0.45, Validation f1 score: 0.45\n",
      "Epoch 15 [15.29s]: Training Loss: 1.72 Validation Loss: 2.23, Train Accuracy: 0.52, Train f1 score: 0.52,Validation Accuracy: 0.43, Validation f1 score: 0.43\n",
      "Epoch 16 [15.35s]: Training Loss: 1.68 Validation Loss: 2.21, Train Accuracy: 0.53, Train f1 score: 0.53,Validation Accuracy: 0.44, Validation f1 score: 0.44\n",
      "Epoch 17 [15.17s]: Training Loss: 1.64 Validation Loss: 2.20, Train Accuracy: 0.54, Train f1 score: 0.54,Validation Accuracy: 0.44, Validation f1 score: 0.44\n",
      "Epoch 18 [15.26s]: Training Loss: 1.60 Validation Loss: 2.25, Train Accuracy: 0.55, Train f1 score: 0.55,Validation Accuracy: 0.43, Validation f1 score: 0.43\n",
      "Epoch 19 [15.21s]: Training Loss: 1.54 Validation Loss: 2.22, Train Accuracy: 0.56, Train f1 score: 0.56,Validation Accuracy: 0.44, Validation f1 score: 0.44\n",
      "Epoch 20 [15.27s]: Training Loss: 1.52 Validation Loss: 2.25, Train Accuracy: 0.57, Train f1 score: 0.57,Validation Accuracy: 0.44, Validation f1 score: 0.44\n",
      "Epoch 21 [15.23s]: Training Loss: 1.49 Validation Loss: 2.24, Train Accuracy: 0.58, Train f1 score: 0.58,Validation Accuracy: 0.44, Validation f1 score: 0.44\n",
      "Epoch 22 [15.31s]: Training Loss: 1.47 Validation Loss: 2.30, Train Accuracy: 0.58, Train f1 score: 0.58,Validation Accuracy: 0.43, Validation f1 score: 0.43\n",
      "Epoch 23 [15.30s]: Training Loss: 1.46 Validation Loss: 2.40, Train Accuracy: 0.58, Train f1 score: 0.58,Validation Accuracy: 0.42, Validation f1 score: 0.42\n",
      "Epoch 24 [15.28s]: Training Loss: 1.45 Validation Loss: 2.33, Train Accuracy: 0.58, Train f1 score: 0.58,Validation Accuracy: 0.43, Validation f1 score: 0.43\n",
      "Epoch 25 [15.19s]: Training Loss: 1.39 Validation Loss: 2.35, Train Accuracy: 0.60, Train f1 score: 0.60,Validation Accuracy: 0.44, Validation f1 score: 0.44\n",
      "Epoch 26 [15.16s]: Training Loss: 1.36 Validation Loss: 2.37, Train Accuracy: 0.60, Train f1 score: 0.60,Validation Accuracy: 0.43, Validation f1 score: 0.43\n",
      "Epoch 27 [15.22s]: Training Loss: 1.35 Validation Loss: 2.50, Train Accuracy: 0.61, Train f1 score: 0.61,Validation Accuracy: 0.42, Validation f1 score: 0.42\n",
      "Epoch 28 [15.11s]: Training Loss: 1.31 Validation Loss: 2.59, Train Accuracy: 0.62, Train f1 score: 0.62,Validation Accuracy: 0.41, Validation f1 score: 0.41\n",
      "Epoch 29 [15.16s]: Training Loss: 1.29 Validation Loss: 2.52, Train Accuracy: 0.62, Train f1 score: 0.62,Validation Accuracy: 0.42, Validation f1 score: 0.42\n",
      "Epoch 30 [15.14s]: Training Loss: 1.27 Validation Loss: 2.51, Train Accuracy: 0.63, Train f1 score: 0.63,Validation Accuracy: 0.42, Validation f1 score: 0.42\n",
      "Epoch 31 [15.36s]: Training Loss: 1.25 Validation Loss: 2.43, Train Accuracy: 0.63, Train f1 score: 0.63,Validation Accuracy: 0.43, Validation f1 score: 0.43\n",
      "Epoch 32 [15.24s]: Training Loss: 1.23 Validation Loss: 2.58, Train Accuracy: 0.64, Train f1 score: 0.64,Validation Accuracy: 0.41, Validation f1 score: 0.41\n",
      "Epoch 33 [15.28s]: Training Loss: 1.20 Validation Loss: 2.45, Train Accuracy: 0.64, Train f1 score: 0.64,Validation Accuracy: 0.43, Validation f1 score: 0.43\n",
      "Epoch 34 [15.20s]: Training Loss: 1.20 Validation Loss: 2.42, Train Accuracy: 0.64, Train f1 score: 0.64,Validation Accuracy: 0.44, Validation f1 score: 0.44\n",
      "Epoch 35 [15.21s]: Training Loss: 1.18 Validation Loss: 2.38, Train Accuracy: 0.65, Train f1 score: 0.65,Validation Accuracy: 0.44, Validation f1 score: 0.44\n",
      "Epoch 36 [15.19s]: Training Loss: 1.16 Validation Loss: 2.65, Train Accuracy: 0.65, Train f1 score: 0.65,Validation Accuracy: 0.42, Validation f1 score: 0.42\n",
      "Epoch 37 [15.27s]: Training Loss: 1.16 Validation Loss: 2.49, Train Accuracy: 0.65, Train f1 score: 0.65,Validation Accuracy: 0.44, Validation f1 score: 0.44\n",
      "Epoch 38 [15.25s]: Training Loss: 1.15 Validation Loss: 2.52, Train Accuracy: 0.66, Train f1 score: 0.66,Validation Accuracy: 0.43, Validation f1 score: 0.43\n",
      "Epoch 39 [15.29s]: Training Loss: 1.14 Validation Loss: 2.67, Train Accuracy: 0.66, Train f1 score: 0.66,Validation Accuracy: 0.41, Validation f1 score: 0.41\n",
      "Epoch 40 [15.26s]: Training Loss: 1.11 Validation Loss: 2.59, Train Accuracy: 0.67, Train f1 score: 0.67,Validation Accuracy: 0.43, Validation f1 score: 0.43\n",
      "Epoch 41 [15.30s]: Training Loss: 1.12 Validation Loss: 2.44, Train Accuracy: 0.66, Train f1 score: 0.66,Validation Accuracy: 0.44, Validation f1 score: 0.44\n",
      "Epoch 42 [15.24s]: Training Loss: 1.10 Validation Loss: 2.48, Train Accuracy: 0.67, Train f1 score: 0.67,Validation Accuracy: 0.44, Validation f1 score: 0.44\n",
      "Epoch 43 [15.14s]: Training Loss: 1.08 Validation Loss: 2.51, Train Accuracy: 0.68, Train f1 score: 0.68,Validation Accuracy: 0.43, Validation f1 score: 0.43\n",
      "Epoch 44 [15.23s]: Training Loss: 1.08 Validation Loss: 2.49, Train Accuracy: 0.67, Train f1 score: 0.67,Validation Accuracy: 0.44, Validation f1 score: 0.44\n",
      "Epoch 45 [15.18s]: Training Loss: 1.08 Validation Loss: 2.56, Train Accuracy: 0.67, Train f1 score: 0.67,Validation Accuracy: 0.43, Validation f1 score: 0.43\n",
      "Epoch 46 [15.23s]: Training Loss: 1.09 Validation Loss: 2.41, Train Accuracy: 0.67, Train f1 score: 0.67,Validation Accuracy: 0.45, Validation f1 score: 0.45\n",
      "Epoch 47 [15.27s]: Training Loss: 1.08 Validation Loss: 2.45, Train Accuracy: 0.68, Train f1 score: 0.68,Validation Accuracy: 0.45, Validation f1 score: 0.45\n",
      "Epoch 48 [15.18s]: Training Loss: 1.09 Validation Loss: 2.39, Train Accuracy: 0.67, Train f1 score: 0.67,Validation Accuracy: 0.46, Validation f1 score: 0.46\n",
      "Epoch 49 [15.20s]: Training Loss: 1.07 Validation Loss: 2.33, Train Accuracy: 0.67, Train f1 score: 0.67,Validation Accuracy: 0.48, Validation f1 score: 0.48\n",
      "Epoch 50 [15.22s]: Training Loss: 1.08 Validation Loss: 2.48, Train Accuracy: 0.67, Train f1 score: 0.67,Validation Accuracy: 0.45, Validation f1 score: 0.45\n",
      "Epoch 51 [15.20s]: Training Loss: 1.09 Validation Loss: 2.55, Train Accuracy: 0.67, Train f1 score: 0.67,Validation Accuracy: 0.44, Validation f1 score: 0.44\n",
      "Epoch 52 [15.42s]: Training Loss: 1.09 Validation Loss: 2.51, Train Accuracy: 0.67, Train f1 score: 0.67,Validation Accuracy: 0.44, Validation f1 score: 0.44\n",
      "Epoch 53 [15.29s]: Training Loss: 1.09 Validation Loss: 2.61, Train Accuracy: 0.67, Train f1 score: 0.67,Validation Accuracy: 0.42, Validation f1 score: 0.42\n",
      "Epoch 54 [15.37s]: Training Loss: 1.09 Validation Loss: 2.43, Train Accuracy: 0.67, Train f1 score: 0.67,Validation Accuracy: 0.45, Validation f1 score: 0.45\n",
      "Epoch 55 [15.32s]: Training Loss: 1.12 Validation Loss: 2.42, Train Accuracy: 0.66, Train f1 score: 0.66,Validation Accuracy: 0.45, Validation f1 score: 0.45\n",
      "Epoch 56 [15.34s]: Training Loss: 1.14 Validation Loss: 2.31, Train Accuracy: 0.66, Train f1 score: 0.66,Validation Accuracy: 0.47, Validation f1 score: 0.47\n",
      "Epoch 57 [15.38s]: Training Loss: 1.12 Validation Loss: 2.31, Train Accuracy: 0.66, Train f1 score: 0.66,Validation Accuracy: 0.46, Validation f1 score: 0.46\n",
      "Epoch 58 [15.31s]: Training Loss: 1.14 Validation Loss: 2.27, Train Accuracy: 0.66, Train f1 score: 0.66,Validation Accuracy: 0.47, Validation f1 score: 0.47\n",
      "Epoch 59 [15.32s]: Training Loss: 1.15 Validation Loss: 2.34, Train Accuracy: 0.65, Train f1 score: 0.65,Validation Accuracy: 0.46, Validation f1 score: 0.46\n",
      "Epoch 60 [15.28s]: Training Loss: 1.18 Validation Loss: 2.34, Train Accuracy: 0.65, Train f1 score: 0.65,Validation Accuracy: 0.45, Validation f1 score: 0.45\n",
      "Epoch 61 [15.34s]: Training Loss: 1.19 Validation Loss: 2.31, Train Accuracy: 0.64, Train f1 score: 0.64,Validation Accuracy: 0.46, Validation f1 score: 0.46\n",
      "Epoch 62 [15.31s]: Training Loss: 1.19 Validation Loss: 2.30, Train Accuracy: 0.64, Train f1 score: 0.64,Validation Accuracy: 0.46, Validation f1 score: 0.46\n",
      "Epoch 63 [15.40s]: Training Loss: 1.21 Validation Loss: 2.37, Train Accuracy: 0.64, Train f1 score: 0.64,Validation Accuracy: 0.45, Validation f1 score: 0.45\n",
      "Epoch 64 [15.28s]: Training Loss: 1.21 Validation Loss: 2.24, Train Accuracy: 0.64, Train f1 score: 0.64,Validation Accuracy: 0.47, Validation f1 score: 0.47\n",
      "Epoch 65 [15.37s]: Training Loss: 1.24 Validation Loss: 2.26, Train Accuracy: 0.63, Train f1 score: 0.63,Validation Accuracy: 0.46, Validation f1 score: 0.46\n",
      "Epoch 66 [15.32s]: Training Loss: 1.25 Validation Loss: 2.30, Train Accuracy: 0.63, Train f1 score: 0.63,Validation Accuracy: 0.46, Validation f1 score: 0.46\n",
      "Epoch 67 [15.36s]: Training Loss: 1.27 Validation Loss: 2.28, Train Accuracy: 0.62, Train f1 score: 0.62,Validation Accuracy: 0.46, Validation f1 score: 0.46\n",
      "Epoch 68 [15.32s]: Training Loss: 1.27 Validation Loss: 2.33, Train Accuracy: 0.62, Train f1 score: 0.62,Validation Accuracy: 0.44, Validation f1 score: 0.44\n",
      "Epoch 69 [15.37s]: Training Loss: 1.29 Validation Loss: 2.37, Train Accuracy: 0.62, Train f1 score: 0.62,Validation Accuracy: 0.44, Validation f1 score: 0.44\n",
      "Epoch 70 [15.40s]: Training Loss: 1.31 Validation Loss: 2.33, Train Accuracy: 0.62, Train f1 score: 0.62,Validation Accuracy: 0.45, Validation f1 score: 0.45\n",
      "Epoch 71 [15.33s]: Training Loss: 1.31 Validation Loss: 2.26, Train Accuracy: 0.61, Train f1 score: 0.61,Validation Accuracy: 0.46, Validation f1 score: 0.46\n",
      "Epoch 72 [15.29s]: Training Loss: 1.33 Validation Loss: 2.24, Train Accuracy: 0.61, Train f1 score: 0.61,Validation Accuracy: 0.46, Validation f1 score: 0.46\n",
      "Epoch 73 [15.35s]: Training Loss: 1.35 Validation Loss: 2.34, Train Accuracy: 0.60, Train f1 score: 0.60,Validation Accuracy: 0.44, Validation f1 score: 0.44\n",
      "Epoch 74 [15.35s]: Training Loss: 1.36 Validation Loss: 2.19, Train Accuracy: 0.60, Train f1 score: 0.60,Validation Accuracy: 0.46, Validation f1 score: 0.46\n",
      "Epoch 75 [15.34s]: Training Loss: 1.37 Validation Loss: 2.17, Train Accuracy: 0.60, Train f1 score: 0.60,Validation Accuracy: 0.46, Validation f1 score: 0.46\n",
      "Epoch 76 [15.32s]: Training Loss: 1.39 Validation Loss: 2.17, Train Accuracy: 0.59, Train f1 score: 0.59,Validation Accuracy: 0.47, Validation f1 score: 0.47\n",
      "Epoch 77 [15.32s]: Training Loss: 1.39 Validation Loss: 2.35, Train Accuracy: 0.59, Train f1 score: 0.59,Validation Accuracy: 0.44, Validation f1 score: 0.44\n",
      "Epoch 78 [15.40s]: Training Loss: 1.40 Validation Loss: 2.10, Train Accuracy: 0.59, Train f1 score: 0.59,Validation Accuracy: 0.47, Validation f1 score: 0.47\n",
      "Epoch 79 [15.37s]: Training Loss: 1.42 Validation Loss: 2.22, Train Accuracy: 0.59, Train f1 score: 0.59,Validation Accuracy: 0.45, Validation f1 score: 0.45\n",
      "Epoch 80 [15.33s]: Training Loss: 1.43 Validation Loss: 2.18, Train Accuracy: 0.58, Train f1 score: 0.58,Validation Accuracy: 0.46, Validation f1 score: 0.46\n",
      "Epoch 81 [15.41s]: Training Loss: 1.46 Validation Loss: 2.13, Train Accuracy: 0.58, Train f1 score: 0.58,Validation Accuracy: 0.47, Validation f1 score: 0.47\n",
      "Epoch 82 [15.38s]: Training Loss: 1.45 Validation Loss: 2.16, Train Accuracy: 0.58, Train f1 score: 0.58,Validation Accuracy: 0.47, Validation f1 score: 0.47\n",
      "Epoch 83 [15.49s]: Training Loss: 1.47 Validation Loss: 2.21, Train Accuracy: 0.58, Train f1 score: 0.58,Validation Accuracy: 0.44, Validation f1 score: 0.44\n",
      "Epoch 84 [15.42s]: Training Loss: 1.48 Validation Loss: 2.13, Train Accuracy: 0.57, Train f1 score: 0.57,Validation Accuracy: 0.46, Validation f1 score: 0.46\n",
      "Epoch 85 [15.34s]: Training Loss: 1.49 Validation Loss: 2.12, Train Accuracy: 0.57, Train f1 score: 0.57,Validation Accuracy: 0.47, Validation f1 score: 0.47\n",
      "Epoch 86 [15.38s]: Training Loss: 1.50 Validation Loss: 2.22, Train Accuracy: 0.57, Train f1 score: 0.57,Validation Accuracy: 0.45, Validation f1 score: 0.45\n",
      "Epoch 87 [15.27s]: Training Loss: 1.51 Validation Loss: 2.16, Train Accuracy: 0.57, Train f1 score: 0.57,Validation Accuracy: 0.46, Validation f1 score: 0.46\n",
      "Epoch 88 [15.33s]: Training Loss: 1.54 Validation Loss: 2.17, Train Accuracy: 0.56, Train f1 score: 0.56,Validation Accuracy: 0.45, Validation f1 score: 0.45\n",
      "Epoch 89 [15.37s]: Training Loss: 1.54 Validation Loss: 2.26, Train Accuracy: 0.56, Train f1 score: 0.56,Validation Accuracy: 0.44, Validation f1 score: 0.44\n",
      "Epoch 90 [15.38s]: Training Loss: 1.54 Validation Loss: 2.01, Train Accuracy: 0.56, Train f1 score: 0.56,Validation Accuracy: 0.48, Validation f1 score: 0.48\n",
      "Epoch 91 [15.25s]: Training Loss: 1.56 Validation Loss: 2.10, Train Accuracy: 0.56, Train f1 score: 0.56,Validation Accuracy: 0.47, Validation f1 score: 0.47\n",
      "Epoch 92 [15.27s]: Training Loss: 1.56 Validation Loss: 2.15, Train Accuracy: 0.56, Train f1 score: 0.56,Validation Accuracy: 0.46, Validation f1 score: 0.46\n",
      "Epoch 93 [15.34s]: Training Loss: 1.57 Validation Loss: 2.20, Train Accuracy: 0.55, Train f1 score: 0.55,Validation Accuracy: 0.45, Validation f1 score: 0.45\n",
      "Epoch 94 [15.28s]: Training Loss: 1.57 Validation Loss: 2.09, Train Accuracy: 0.55, Train f1 score: 0.55,Validation Accuracy: 0.47, Validation f1 score: 0.47\n",
      "Epoch 95 [15.26s]: Training Loss: 1.58 Validation Loss: 2.13, Train Accuracy: 0.55, Train f1 score: 0.55,Validation Accuracy: 0.46, Validation f1 score: 0.46\n",
      "Epoch 96 [15.24s]: Training Loss: 1.60 Validation Loss: 2.17, Train Accuracy: 0.55, Train f1 score: 0.55,Validation Accuracy: 0.45, Validation f1 score: 0.45\n",
      "Epoch 97 [15.42s]: Training Loss: 1.59 Validation Loss: 2.07, Train Accuracy: 0.55, Train f1 score: 0.55,Validation Accuracy: 0.47, Validation f1 score: 0.47\n",
      "Epoch 98 [15.37s]: Training Loss: 1.60 Validation Loss: 2.09, Train Accuracy: 0.55, Train f1 score: 0.55,Validation Accuracy: 0.46, Validation f1 score: 0.46\n",
      "Epoch 99 [15.34s]: Training Loss: 1.61 Validation Loss: 2.19, Train Accuracy: 0.54, Train f1 score: 0.54,Validation Accuracy: 0.44, Validation f1 score: 0.44\n",
      "Epoch 100 [15.28s]: Training Loss: 1.62 Validation Loss: 2.13, Train Accuracy: 0.54, Train f1 score: 0.54,Validation Accuracy: 0.46, Validation f1 score: 0.46\n",
      "Epoch 101 [15.36s]: Training Loss: 1.61 Validation Loss: 2.07, Train Accuracy: 0.54, Train f1 score: 0.54,Validation Accuracy: 0.47, Validation f1 score: 0.47\n",
      "Epoch 102 [15.40s]: Training Loss: 1.63 Validation Loss: 2.22, Train Accuracy: 0.54, Train f1 score: 0.54,Validation Accuracy: 0.44, Validation f1 score: 0.44\n",
      "Epoch 103 [15.29s]: Training Loss: 1.63 Validation Loss: 2.11, Train Accuracy: 0.54, Train f1 score: 0.54,Validation Accuracy: 0.46, Validation f1 score: 0.46\n",
      "Epoch 104 [15.31s]: Training Loss: 1.63 Validation Loss: 2.12, Train Accuracy: 0.54, Train f1 score: 0.54,Validation Accuracy: 0.46, Validation f1 score: 0.46\n",
      "Epoch 105 [15.30s]: Training Loss: 1.64 Validation Loss: 2.28, Train Accuracy: 0.54, Train f1 score: 0.54,Validation Accuracy: 0.42, Validation f1 score: 0.42\n",
      "Epoch 106 [15.24s]: Training Loss: 1.64 Validation Loss: 2.19, Train Accuracy: 0.54, Train f1 score: 0.54,Validation Accuracy: 0.44, Validation f1 score: 0.44\n",
      "Epoch 107 [15.29s]: Training Loss: 1.64 Validation Loss: 2.08, Train Accuracy: 0.54, Train f1 score: 0.54,Validation Accuracy: 0.46, Validation f1 score: 0.46\n",
      "Epoch 108 [15.35s]: Training Loss: 1.64 Validation Loss: 2.16, Train Accuracy: 0.54, Train f1 score: 0.54,Validation Accuracy: 0.44, Validation f1 score: 0.44\n",
      "Epoch 109 [15.32s]: Training Loss: 1.64 Validation Loss: 2.29, Train Accuracy: 0.54, Train f1 score: 0.54,Validation Accuracy: 0.43, Validation f1 score: 0.43\n",
      "Epoch 110 [15.32s]: Training Loss: 1.65 Validation Loss: 2.38, Train Accuracy: 0.53, Train f1 score: 0.53,Validation Accuracy: 0.42, Validation f1 score: 0.42\n",
      "Epoch 111 [15.33s]: Training Loss: 1.65 Validation Loss: 2.11, Train Accuracy: 0.53, Train f1 score: 0.53,Validation Accuracy: 0.46, Validation f1 score: 0.46\n",
      "Epoch 112 [15.25s]: Training Loss: 1.65 Validation Loss: 2.15, Train Accuracy: 0.53, Train f1 score: 0.53,Validation Accuracy: 0.45, Validation f1 score: 0.45\n",
      "Epoch 113 [15.31s]: Training Loss: 1.65 Validation Loss: 2.18, Train Accuracy: 0.54, Train f1 score: 0.54,Validation Accuracy: 0.44, Validation f1 score: 0.44\n",
      "Epoch 114 [15.28s]: Training Loss: 1.65 Validation Loss: 2.53, Train Accuracy: 0.53, Train f1 score: 0.53,Validation Accuracy: 0.40, Validation f1 score: 0.40\n",
      "Epoch 115 [15.31s]: Training Loss: 1.65 Validation Loss: 2.26, Train Accuracy: 0.54, Train f1 score: 0.54,Validation Accuracy: 0.45, Validation f1 score: 0.45\n",
      "Epoch 116 [15.32s]: Training Loss: 1.64 Validation Loss: 2.16, Train Accuracy: 0.54, Train f1 score: 0.54,Validation Accuracy: 0.45, Validation f1 score: 0.45\n",
      "Epoch 117 [15.32s]: Training Loss: 1.65 Validation Loss: 2.07, Train Accuracy: 0.53, Train f1 score: 0.53,Validation Accuracy: 0.47, Validation f1 score: 0.47\n",
      "Epoch 118 [15.30s]: Training Loss: 1.65 Validation Loss: 2.04, Train Accuracy: 0.54, Train f1 score: 0.54,Validation Accuracy: 0.47, Validation f1 score: 0.47\n",
      "Epoch 119 [15.40s]: Training Loss: 1.65 Validation Loss: 2.31, Train Accuracy: 0.54, Train f1 score: 0.54,Validation Accuracy: 0.42, Validation f1 score: 0.42\n",
      "Epoch 120 [15.39s]: Training Loss: 1.65 Validation Loss: 2.40, Train Accuracy: 0.54, Train f1 score: 0.54,Validation Accuracy: 0.42, Validation f1 score: 0.42\n",
      "Epoch 121 [15.28s]: Training Loss: 1.65 Validation Loss: 2.09, Train Accuracy: 0.53, Train f1 score: 0.53,Validation Accuracy: 0.45, Validation f1 score: 0.45\n",
      "Epoch 122 [15.29s]: Training Loss: 1.64 Validation Loss: 2.11, Train Accuracy: 0.54, Train f1 score: 0.54,Validation Accuracy: 0.46, Validation f1 score: 0.46\n",
      "Epoch 123 [15.30s]: Training Loss: 1.64 Validation Loss: 2.11, Train Accuracy: 0.54, Train f1 score: 0.54,Validation Accuracy: 0.45, Validation f1 score: 0.45\n",
      "Epoch 124 [15.28s]: Training Loss: 1.64 Validation Loss: 2.05, Train Accuracy: 0.54, Train f1 score: 0.54,Validation Accuracy: 0.47, Validation f1 score: 0.47\n",
      "Epoch 125 [15.32s]: Training Loss: 1.64 Validation Loss: 2.09, Train Accuracy: 0.54, Train f1 score: 0.54,Validation Accuracy: 0.46, Validation f1 score: 0.46\n",
      "Epoch 126 [15.30s]: Training Loss: 1.64 Validation Loss: 2.09, Train Accuracy: 0.54, Train f1 score: 0.54,Validation Accuracy: 0.46, Validation f1 score: 0.46\n",
      "Epoch 127 [15.52s]: Training Loss: 1.64 Validation Loss: 2.14, Train Accuracy: 0.54, Train f1 score: 0.54,Validation Accuracy: 0.46, Validation f1 score: 0.46\n",
      "Epoch 128 [15.33s]: Training Loss: 1.63 Validation Loss: 2.10, Train Accuracy: 0.54, Train f1 score: 0.54,Validation Accuracy: 0.46, Validation f1 score: 0.46\n",
      "Epoch 129 [15.29s]: Training Loss: 1.63 Validation Loss: 2.20, Train Accuracy: 0.54, Train f1 score: 0.54,Validation Accuracy: 0.44, Validation f1 score: 0.44\n",
      "Epoch 130 [15.25s]: Training Loss: 1.63 Validation Loss: 2.09, Train Accuracy: 0.54, Train f1 score: 0.54,Validation Accuracy: 0.46, Validation f1 score: 0.46\n",
      "Epoch 131 [15.32s]: Training Loss: 1.62 Validation Loss: 2.09, Train Accuracy: 0.54, Train f1 score: 0.54,Validation Accuracy: 0.46, Validation f1 score: 0.46\n",
      "Epoch 132 [15.33s]: Training Loss: 1.62 Validation Loss: 2.10, Train Accuracy: 0.54, Train f1 score: 0.54,Validation Accuracy: 0.46, Validation f1 score: 0.46\n",
      "Epoch 133 [15.63s]: Training Loss: 1.62 Validation Loss: 2.02, Train Accuracy: 0.54, Train f1 score: 0.54,Validation Accuracy: 0.47, Validation f1 score: 0.47\n",
      "Epoch 134 [15.32s]: Training Loss: 1.62 Validation Loss: 2.17, Train Accuracy: 0.54, Train f1 score: 0.54,Validation Accuracy: 0.45, Validation f1 score: 0.45\n",
      "Epoch 135 [15.41s]: Training Loss: 1.61 Validation Loss: 2.03, Train Accuracy: 0.55, Train f1 score: 0.55,Validation Accuracy: 0.47, Validation f1 score: 0.47\n",
      "Epoch 136 [15.40s]: Training Loss: 1.61 Validation Loss: 2.02, Train Accuracy: 0.54, Train f1 score: 0.54,Validation Accuracy: 0.47, Validation f1 score: 0.47\n",
      "Epoch 137 [15.29s]: Training Loss: 1.60 Validation Loss: 2.06, Train Accuracy: 0.55, Train f1 score: 0.55,Validation Accuracy: 0.47, Validation f1 score: 0.47\n",
      "Epoch 138 [15.33s]: Training Loss: 1.61 Validation Loss: 2.06, Train Accuracy: 0.55, Train f1 score: 0.55,Validation Accuracy: 0.47, Validation f1 score: 0.47\n",
      "Epoch 139 [15.36s]: Training Loss: 1.61 Validation Loss: 2.08, Train Accuracy: 0.54, Train f1 score: 0.54,Validation Accuracy: 0.46, Validation f1 score: 0.46\n",
      "Epoch 140 [15.33s]: Training Loss: 1.61 Validation Loss: 2.04, Train Accuracy: 0.54, Train f1 score: 0.54,Validation Accuracy: 0.47, Validation f1 score: 0.47\n",
      "Epoch 141 [15.25s]: Training Loss: 1.59 Validation Loss: 2.00, Train Accuracy: 0.55, Train f1 score: 0.55,Validation Accuracy: 0.48, Validation f1 score: 0.48\n",
      "Epoch 142 [15.34s]: Training Loss: 1.59 Validation Loss: 2.04, Train Accuracy: 0.55, Train f1 score: 0.55,Validation Accuracy: 0.47, Validation f1 score: 0.47\n",
      "Epoch 143 [15.29s]: Training Loss: 1.60 Validation Loss: 2.16, Train Accuracy: 0.55, Train f1 score: 0.55,Validation Accuracy: 0.45, Validation f1 score: 0.45\n",
      "Epoch 144 [15.30s]: Training Loss: 1.58 Validation Loss: 2.05, Train Accuracy: 0.55, Train f1 score: 0.55,Validation Accuracy: 0.47, Validation f1 score: 0.47\n",
      "Epoch 145 [15.35s]: Training Loss: 1.59 Validation Loss: 2.08, Train Accuracy: 0.55, Train f1 score: 0.55,Validation Accuracy: 0.46, Validation f1 score: 0.46\n",
      "Epoch 146 [15.35s]: Training Loss: 1.58 Validation Loss: 2.01, Train Accuracy: 0.55, Train f1 score: 0.55,Validation Accuracy: 0.48, Validation f1 score: 0.48\n",
      "Epoch 147 [15.28s]: Training Loss: 1.58 Validation Loss: 2.05, Train Accuracy: 0.55, Train f1 score: 0.55,Validation Accuracy: 0.47, Validation f1 score: 0.47\n",
      "Epoch 148 [15.20s]: Training Loss: 1.58 Validation Loss: 2.03, Train Accuracy: 0.55, Train f1 score: 0.55,Validation Accuracy: 0.48, Validation f1 score: 0.48\n",
      "Epoch 149 [15.25s]: Training Loss: 1.57 Validation Loss: 2.11, Train Accuracy: 0.56, Train f1 score: 0.56,Validation Accuracy: 0.46, Validation f1 score: 0.46\n",
      "Epoch 150 [15.38s]: Training Loss: 1.58 Validation Loss: 2.02, Train Accuracy: 0.55, Train f1 score: 0.55,Validation Accuracy: 0.48, Validation f1 score: 0.48\n",
      "Finished Training\n"
     ]
    }
   ],
   "source": [
    "# train(cfg=cfg, model=model,\n",
    "#       optimizer=optimizer, scheduler=sched, train_loader=train_data_loader,\n",
    "#       val_loader=val_data_loader, criterion=criterion)"
   ],
   "metadata": {
    "collapsed": false,
    "pycharm": {
     "name": "#%%\n"
    }
   }
  },
  {
   "cell_type": "code",
   "execution_count": 10,
   "outputs": [
    {
     "name": "stdout",
     "output_type": "stream",
     "text": [
      "0.4808\n"
     ]
    }
   ],
   "source": [
    "from numpy import argmax\n",
    "from numpy import vstack\n",
    "from sklearn.metrics import accuracy_score\n",
    "# evaluate the model\n",
    "def evaluate_model(test_dl, model):\n",
    "  predictions, actuals = list(), list()\n",
    "  for i, (inputs, targets) in enumerate(test_dl):\n",
    "    if torch.cuda.is_available():\n",
    "      inputs, targets = inputs.cuda(), targets.cuda()\n",
    "    # evaluate the model on the test set\n",
    "    yhat = model(inputs)\n",
    "    # retrieve numpy array\n",
    "    yhat = yhat.detach().cpu().numpy()\n",
    "    actual = targets.cpu().numpy()\n",
    "    # convert to class labels\n",
    "    yhat = argmax(yhat, axis=1)\n",
    "    # reshape for stacking\n",
    "    actual = actual.reshape((len(actual), 1))\n",
    "    yhat = yhat.reshape((len(yhat), 1))\n",
    "    # store\n",
    "    predictions.append(yhat)\n",
    "    actuals.append(actual)\n",
    "  predictions, actuals = vstack(predictions), vstack(actuals)\n",
    "  # calculate accuracy\n",
    "  acc = accuracy_score(actuals, predictions)\n",
    "  return acc\n",
    "\n",
    "acc = evaluate_model(test_dl=val_data_loader,model=model)\n",
    "print(acc)"
   ],
   "metadata": {
    "collapsed": false,
    "pycharm": {
     "name": "#%%\n"
    }
   }
  },
  {
   "cell_type": "code",
   "execution_count": 11,
   "outputs": [],
   "source": [
    "from torchvision.models.resnet import resnet18 as _resnet18\n",
    "import torch.optim as optim\n",
    "\n",
    "\n",
    "max_lr = 0.001\n",
    "grad_clip = 0.1\n",
    "weight_decay = 1e-4\n",
    "\n",
    "model2 = _resnet18(pretrained=False)\n",
    "# Set up cutom optimizer with weight decay\n",
    "optimizer2 = optim.Adam(model.parameters(), max_lr, weight_decay=weight_decay)\n",
    "# Set up one-cycle learning rate scheduler\n",
    "sched = torch.optim.lr_scheduler.OneCycleLR(optimizer2, max_lr, epochs=cfg.SOLVER.IMS_PER_BATCH,\n",
    "                                            steps_per_epoch=len(train_data_loader))\n",
    "criterion = nn.CrossEntropyLoss()"
   ],
   "metadata": {
    "collapsed": false,
    "pycharm": {
     "name": "#%%\n"
    }
   }
  },
  {
   "cell_type": "code",
   "execution_count": 15,
   "outputs": [
    {
     "name": "stdout",
     "output_type": "stream",
     "text": [
      "Epoch 1 [14.97s]: Training Loss: 7.24 Validation Loss: 7.24, Train Accuracy: 0.00, Train f1 score: 0.00,Validation Accuracy: 0.00, Validation f1 score: 0.00\n",
      "Epoch 2 [14.92s]: Training Loss: 7.24 Validation Loss: 7.24, Train Accuracy: 0.00, Train f1 score: 0.00,Validation Accuracy: 0.00, Validation f1 score: 0.00\n",
      "Epoch 3 [15.04s]: Training Loss: 7.24 Validation Loss: 7.24, Train Accuracy: 0.00, Train f1 score: 0.00,Validation Accuracy: 0.00, Validation f1 score: 0.00\n",
      "Epoch 4 [15.10s]: Training Loss: 7.23 Validation Loss: 7.24, Train Accuracy: 0.00, Train f1 score: 0.00,Validation Accuracy: 0.00, Validation f1 score: 0.00\n",
      "Progress[96]: [-------------->     ] 76 %\r"
     ]
    },
    {
     "name": "stderr",
     "output_type": "stream",
     "text": [
      "Traceback (most recent call last):\n",
      "  File \"/home/omid/anaconda3/envs/pytorch/lib/python3.8/multiprocessing/queues.py\", line 245, in _feed\n",
      "    send_bytes(obj)\n",
      "  File \"/home/omid/anaconda3/envs/pytorch/lib/python3.8/multiprocessing/connection.py\", line 200, in send_bytes\n",
      "    self._send_bytes(m[offset:offset + size])\n",
      "  File \"/home/omid/anaconda3/envs/pytorch/lib/python3.8/multiprocessing/connection.py\", line 411, in _send_bytes\n",
      "    self._send(header + buf)\n",
      "  File \"/home/omid/anaconda3/envs/pytorch/lib/python3.8/multiprocessing/connection.py\", line 368, in _send\n",
      "    n = write(self._handle, buf)\n",
      "BrokenPipeError: [Errno 32] Broken pipe\n"
     ]
    },
    {
     "ename": "KeyboardInterrupt",
     "evalue": "",
     "output_type": "error",
     "traceback": [
      "\u001B[0;31m---------------------------------------------------------------------------\u001B[0m",
      "\u001B[0;31mKeyboardInterrupt\u001B[0m                         Traceback (most recent call last)",
      "\u001B[0;32m<ipython-input-15-d11ffc894792>\u001B[0m in \u001B[0;36m<module>\u001B[0;34m\u001B[0m\n\u001B[0;32m----> 1\u001B[0;31m model2 = train(cfg=cfg, model=model2,\n\u001B[0m\u001B[1;32m      2\u001B[0m       \u001B[0moptimizer\u001B[0m\u001B[0;34m=\u001B[0m\u001B[0moptimizer2\u001B[0m\u001B[0;34m,\u001B[0m \u001B[0mscheduler\u001B[0m\u001B[0;34m=\u001B[0m\u001B[0msched\u001B[0m\u001B[0;34m,\u001B[0m \u001B[0mtrain_loader\u001B[0m\u001B[0;34m=\u001B[0m\u001B[0mtrain_data_loader\u001B[0m\u001B[0;34m,\u001B[0m\u001B[0;34m\u001B[0m\u001B[0;34m\u001B[0m\u001B[0m\n\u001B[1;32m      3\u001B[0m       val_loader=val_data_loader, criterion=criterion)\n",
      "\u001B[0;32m<ipython-input-13-92de9770b42a>\u001B[0m in \u001B[0;36mtrain\u001B[0;34m(cfg, model, train_loader, val_loader, optimizer, scheduler, criterion, grad_clip)\u001B[0m\n\u001B[1;32m     62\u001B[0m             \u001B[0;31m# print(acc)\u001B[0m\u001B[0;34m\u001B[0m\u001B[0;34m\u001B[0m\u001B[0;34m\u001B[0m\u001B[0m\n\u001B[1;32m     63\u001B[0m             \u001B[0m_\u001B[0m\u001B[0;34m,\u001B[0m \u001B[0mpredicted\u001B[0m \u001B[0;34m=\u001B[0m \u001B[0mtorch\u001B[0m\u001B[0;34m.\u001B[0m\u001B[0mmax\u001B[0m\u001B[0;34m(\u001B[0m\u001B[0mtarget\u001B[0m\u001B[0;34m.\u001B[0m\u001B[0mdata\u001B[0m\u001B[0;34m,\u001B[0m \u001B[0;36m1\u001B[0m\u001B[0;34m)\u001B[0m\u001B[0;34m\u001B[0m\u001B[0;34m\u001B[0m\u001B[0m\n\u001B[0;32m---> 64\u001B[0;31m             \u001B[0mf\u001B[0m \u001B[0;34m=\u001B[0m \u001B[0mf1_score\u001B[0m\u001B[0;34m(\u001B[0m\u001B[0mlabels\u001B[0m\u001B[0;34m.\u001B[0m\u001B[0mcpu\u001B[0m\u001B[0;34m(\u001B[0m\u001B[0;34m)\u001B[0m\u001B[0;34m,\u001B[0m \u001B[0mpredicted\u001B[0m\u001B[0;34m.\u001B[0m\u001B[0mcpu\u001B[0m\u001B[0;34m(\u001B[0m\u001B[0;34m)\u001B[0m\u001B[0;34m,\u001B[0m \u001B[0maverage\u001B[0m\u001B[0;34m=\u001B[0m\u001B[0;34m'micro'\u001B[0m\u001B[0;34m)\u001B[0m\u001B[0;34m\u001B[0m\u001B[0;34m\u001B[0m\u001B[0m\n\u001B[0m\u001B[1;32m     65\u001B[0m             \u001B[0;31m# print(f)\u001B[0m\u001B[0;34m\u001B[0m\u001B[0;34m\u001B[0m\u001B[0;34m\u001B[0m\u001B[0m\n\u001B[1;32m     66\u001B[0m             \u001B[0mtrain_f1\u001B[0m\u001B[0;34m.\u001B[0m\u001B[0mupdate\u001B[0m\u001B[0;34m(\u001B[0m\u001B[0mf\u001B[0m\u001B[0;34m)\u001B[0m\u001B[0;34m\u001B[0m\u001B[0;34m\u001B[0m\u001B[0m\n",
      "\u001B[0;31mKeyboardInterrupt\u001B[0m: "
     ]
    }
   ],
   "source": [
    "model2 = train(cfg=cfg, model=model2,\n",
    "      optimizer=optimizer2, scheduler=sched, train_loader=train_data_loader,\n",
    "      val_loader=val_data_loader, criterion=criterion)"
   ],
   "metadata": {
    "collapsed": false,
    "pycharm": {
     "name": "#%%\n"
    }
   }
  }
 ],
 "metadata": {
  "kernelspec": {
   "display_name": "Python 3",
   "language": "python",
   "name": "python3"
  },
  "language_info": {
   "codemirror_mode": {
    "name": "ipython",
    "version": 2
   },
   "file_extension": ".py",
   "mimetype": "text/x-python",
   "name": "python",
   "nbconvert_exporter": "python",
   "pygments_lexer": "ipython2",
   "version": "2.7.6"
  }
 },
 "nbformat": 4,
 "nbformat_minor": 0
}